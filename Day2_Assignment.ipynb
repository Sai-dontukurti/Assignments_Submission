{
  "nbformat": 4,
  "nbformat_minor": 0,
  "metadata": {
    "colab": {
      "name": "Day2_Assignment.ipynb",
      "provenance": [],
      "collapsed_sections": [],
      "authorship_tag": "ABX9TyPTNBu3hpO+hgMQwyRyHmKV",
      "include_colab_link": true
    },
    "kernelspec": {
      "name": "python3",
      "display_name": "Python 3"
    },
    "language_info": {
      "name": "python"
    }
  },
  "cells": [
    {
      "cell_type": "markdown",
      "metadata": {
        "id": "view-in-github",
        "colab_type": "text"
      },
      "source": [
        "<a href=\"https://colab.research.google.com/github/narayanamurthydontukurti/Assignments_Submission/blob/main/Day2_Assignment.ipynb\" target=\"_parent\"><img src=\"https://colab.research.google.com/assets/colab-badge.svg\" alt=\"Open In Colab\"/></a>"
      ]
    },
    {
      "cell_type": "code",
      "metadata": {
        "id": "75rEPAft8GPa"
      },
      "source": [
        "# Day 2\n",
        "# Delete all occurences of an element in a list\n"
      ],
      "execution_count": null,
      "outputs": []
    },
    {
      "cell_type": "code",
      "metadata": {
        "colab": {
          "base_uri": "https://localhost:8080/"
        },
        "id": "N5kYvdIC82d7",
        "outputId": "96bdf033-0444-434b-e5a5-7988b6c7755a"
      },
      "source": [
        "list_1 = [1,4,4,4, 4, 4, 6, 6, 6, 7, 8, 9]\n",
        "x = int(input(\"Enter the occurence number in the list : \"))\n",
        "while x in list_1:\n",
        "  list_1.remove(x)\n",
        "\n",
        "print(list_1)"
      ],
      "execution_count": null,
      "outputs": [
        {
          "output_type": "stream",
          "text": [
            "Enter the occurence number in the list : 4\n",
            "[1, 6, 6, 6, 7, 8, 9]\n"
          ],
          "name": "stdout"
        }
      ]
    },
    {
      "cell_type": "code",
      "metadata": {
        "id": "NjmO8w9d-jgY"
      },
      "source": [
        "# Check whether a string is a pangram"
      ],
      "execution_count": null,
      "outputs": []
    },
    {
      "cell_type": "code",
      "metadata": {
        "colab": {
          "base_uri": "https://localhost:8080/"
        },
        "id": "xxc_01i7-1o1",
        "outputId": "76145e79-e711-4ea6-9b22-aa056d1a994d"
      },
      "source": [
        "import string\n",
        "def ispangram(str):\n",
        "   alphabet = \"abcdefghijklmnopqrstuvwxyz\"\n",
        "   for char in alphabet:\n",
        "      if char not in str.lower():\n",
        "         return False\n",
        "   return True\n",
        "\n",
        "string = str(input(\"Enter the string:\"))\n",
        "if(ispangram(string) == True):\n",
        "   print(\"Yes, it is a pangram\")\n",
        "else:\n",
        "   print(\"No, it is not a pangram\")"
      ],
      "execution_count": null,
      "outputs": [
        {
          "output_type": "stream",
          "text": [
            "Enter the string:'The five boxing wizards jump quickly.'\n",
            "Yes, it is a pangram\n"
          ],
          "name": "stdout"
        }
      ]
    },
    {
      "cell_type": "code",
      "metadata": {
        "id": "C0aGWwbv5j5V"
      },
      "source": [
        ""
      ],
      "execution_count": null,
      "outputs": []
    }
  ]
}