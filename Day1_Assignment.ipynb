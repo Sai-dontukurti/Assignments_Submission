{
  "nbformat": 4,
  "nbformat_minor": 0,
  "metadata": {
    "colab": {
      "name": "Day1_Assignment.ipynb",
      "provenance": [],
      "authorship_tag": "ABX9TyONpSh9w7627/DCgXjswY7O",
      "include_colab_link": true
    },
    "kernelspec": {
      "name": "python3",
      "display_name": "Python 3"
    },
    "language_info": {
      "name": "python"
    }
  },
  "cells": [
    {
      "cell_type": "markdown",
      "metadata": {
        "id": "view-in-github",
        "colab_type": "text"
      },
      "source": [
        "<a href=\"https://colab.research.google.com/github/narayanamurthydontukurti/Assignments_Submission/blob/main/Day1_Assignment.ipynb\" target=\"_parent\"><img src=\"https://colab.research.google.com/assets/colab-badge.svg\" alt=\"Open In Colab\"/></a>"
      ]
    },
    {
      "cell_type": "code",
      "metadata": {
        "id": "ywzr-mgLHgAH"
      },
      "source": [
        "#day1 \n",
        "# creating a list and sorting it with descending order"
      ],
      "execution_count": 1,
      "outputs": []
    },
    {
      "cell_type": "code",
      "metadata": {
        "colab": {
          "base_uri": "https://localhost:8080/"
        },
        "id": "PAKm64HiHg8j",
        "outputId": "140e42a1-d719-4b38-b690-a4dcf744766e"
      },
      "source": [
        "li = [int(i) for i in input(\"enter values : \").split()]"
      ],
      "execution_count": 2,
      "outputs": [
        {
          "output_type": "stream",
          "text": [
            "enter values : 1 2222 345 67 8 9\n"
          ],
          "name": "stdout"
        }
      ]
    },
    {
      "cell_type": "code",
      "metadata": {
        "colab": {
          "base_uri": "https://localhost:8080/"
        },
        "id": "0LKvFQvxHj4G",
        "outputId": "51fc0320-bc63-48ce-e45d-3438ca79c573"
      },
      "source": [
        "li.sort(reverse = True)\n",
        "print(li)"
      ],
      "execution_count": 3,
      "outputs": [
        {
          "output_type": "stream",
          "text": [
            "[2222, 345, 67, 9, 8, 1]\n"
          ],
          "name": "stdout"
        }
      ]
    },
    {
      "cell_type": "code",
      "metadata": {
        "id": "1mp9kGVoHqnA"
      },
      "source": [
        ""
      ],
      "execution_count": null,
      "outputs": []
    }
  ]
}