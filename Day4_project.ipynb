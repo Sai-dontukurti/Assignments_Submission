{
  "nbformat": 4,
  "nbformat_minor": 0,
  "metadata": {
    "colab": {
      "name": "Day4_project.ipynb",
      "provenance": [],
      "authorship_tag": "ABX9TyNRV7BUssNtV2T8g2WYkEmt",
      "include_colab_link": true
    },
    "kernelspec": {
      "name": "python3",
      "display_name": "Python 3"
    },
    "language_info": {
      "name": "python"
    }
  },
  "cells": [
    {
      "cell_type": "markdown",
      "metadata": {
        "id": "view-in-github",
        "colab_type": "text"
      },
      "source": [
        "<a href=\"https://colab.research.google.com/github/narayanamurthydontukurti/Assignments_Submission/blob/main/Day4_project.ipynb\" target=\"_parent\"><img src=\"https://colab.research.google.com/assets/colab-badge.svg\" alt=\"Open In Colab\"/></a>"
      ]
    },
    {
      "cell_type": "code",
      "metadata": {
        "colab": {
          "base_uri": "https://localhost:8080/"
        },
        "id": "zcf2GzEq75tF",
        "outputId": "5a27397f-9282-4fac-9536-474ce9c6352a"
      },
      "source": [
        "Celsius = int(input(\"Enter the celsius value:\"))\n",
        "Fahrenheit = (Celsius * 1.8) + 32\n",
        "print(Fahrenheit)"
      ],
      "execution_count": 2,
      "outputs": [
        {
          "output_type": "stream",
          "text": [
            "Enter the celsius value:50\n",
            "122.0\n"
          ],
          "name": "stdout"
        }
      ]
    },
    {
      "cell_type": "code",
      "metadata": {
        "id": "ynPrwGiI8T3e"
      },
      "source": [
        ""
      ],
      "execution_count": null,
      "outputs": []
    }
  ]
}